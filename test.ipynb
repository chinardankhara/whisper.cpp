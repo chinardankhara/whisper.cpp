{
 "cells": [
  {
   "cell_type": "code",
   "execution_count": 13,
   "metadata": {},
   "outputs": [],
   "source": [
    "#embedding model code\n",
    "\n",
    "from sentence_transformers import SentenceTransformer\n",
    "queries = ['what is DFA', 'NFA']\n",
    "passages = [\"if there exists a DFA to decide it.\", \"So the NFAs are far more efficient than the DFAs.\"]\n",
    "instruction = \"Represent this sentence for searching relevant passages:\"\n",
    "\n",
    "model = SentenceTransformer('BAAI/bge-base-en', device = \"cpu\")\n",
    "q_embeddings = model.encode([instruction+q for q in queries], normalize_embeddings=True)\n",
    "p_embeddings = model.encode(passages, normalize_embeddings=True)\n",
    "scores = q_embeddings @ p_embeddings.T\n"
   ]
  },
  {
   "cell_type": "code",
   "execution_count": 39,
   "metadata": {},
   "outputs": [],
   "source": [
    "#textprocessor code\n",
    "\n",
    "text = open(\"output.txt\", \"r\").read().split(\"\\n\")\n",
    "text = [line.split(\"]\")[1].strip() for line in text if \"]\" in line]\n",
    "text = \" \".join(i for i in text)"
   ]
  },
  {
   "cell_type": "code",
   "execution_count": null,
   "metadata": {},
   "outputs": [],
   "source": []
  }
 ],
 "metadata": {
  "kernelspec": {
   "display_name": "Python 3",
   "language": "python",
   "name": "python3"
  },
  "language_info": {
   "codemirror_mode": {
    "name": "ipython",
    "version": 3
   },
   "file_extension": ".py",
   "mimetype": "text/x-python",
   "name": "python",
   "nbconvert_exporter": "python",
   "pygments_lexer": "ipython3",
   "version": "3.11.6"
  }
 },
 "nbformat": 4,
 "nbformat_minor": 2
}
